{
 "cells": [
  {
   "cell_type": "markdown",
   "id": "f7629725-45f7-4ea4-a79f-489ba6c54e72",
   "metadata": {
    "id": "f7629725-45f7-4ea4-a79f-489ba6c54e72"
   },
   "source": [
    "## Pandas. Практика"
   ]
  },
  {
   "cell_type": "code",
   "execution_count": null,
   "id": "0a0f0389-aa99-4de3-acf4-8a4ffdd1bc40",
   "metadata": {
    "id": "0a0f0389-aa99-4de3-acf4-8a4ffdd1bc40"
   },
   "outputs": [],
   "source": [
    "import numpy as np\n",
    "import pandas as pd"
   ]
  },
  {
   "cell_type": "markdown",
   "id": "529285c4-b20c-41f8-ae9d-ff59c206a791",
   "metadata": {
    "id": "529285c4-b20c-41f8-ae9d-ff59c206a791"
   },
   "source": [
    "Описание столбцов датасета:\n",
    "- `date` – дата, когда был совершен заказ;\n",
    "- `vendor_id` – уникальный идентификатор ресторана;\n",
    "- `chain_id` – уникальный идентификатор сети ресторанов;\n",
    "- `city_id` – уникальный идентификатор города;\n",
    "- `spec` – специализация ресторана;\n",
    "- `successful_orders` – число успешных заказов;\n",
    "- `fail_orders` – число неуспешных заказов."
   ]
  },
  {
   "cell_type": "code",
   "execution_count": null,
   "id": "40861a4d-9fd7-4a7e-859c-c1c99a62bd72",
   "metadata": {
    "id": "40861a4d-9fd7-4a7e-859c-c1c99a62bd72",
    "outputId": "818e8c9a-11b0-4d67-8bd6-e107b5d4904e"
   },
   "outputs": [
    {
     "data": {
      "text/html": [
       "<div>\n",
       "<style scoped>\n",
       "    .dataframe tbody tr th:only-of-type {\n",
       "        vertical-align: middle;\n",
       "    }\n",
       "\n",
       "    .dataframe tbody tr th {\n",
       "        vertical-align: top;\n",
       "    }\n",
       "\n",
       "    .dataframe thead th {\n",
       "        text-align: right;\n",
       "    }\n",
       "</style>\n",
       "<table border=\"1\" class=\"dataframe\">\n",
       "  <thead>\n",
       "    <tr style=\"text-align: right;\">\n",
       "      <th></th>\n",
       "      <th>date</th>\n",
       "      <th>vendor_id</th>\n",
       "      <th>chain_id</th>\n",
       "      <th>city_id</th>\n",
       "      <th>spec</th>\n",
       "      <th>successful_orders</th>\n",
       "      <th>fail_orders</th>\n",
       "    </tr>\n",
       "  </thead>\n",
       "  <tbody>\n",
       "    <tr>\n",
       "      <th>0</th>\n",
       "      <td>2019-07-02</td>\n",
       "      <td>40065</td>\n",
       "      <td>7501</td>\n",
       "      <td>23</td>\n",
       "      <td>Суши</td>\n",
       "      <td>54.0</td>\n",
       "      <td>1.0</td>\n",
       "    </tr>\n",
       "    <tr>\n",
       "      <th>1</th>\n",
       "      <td>2019-08-27</td>\n",
       "      <td>48058</td>\n",
       "      <td>33226</td>\n",
       "      <td>23</td>\n",
       "      <td>Шаурма</td>\n",
       "      <td>0.0</td>\n",
       "      <td>0.0</td>\n",
       "    </tr>\n",
       "    <tr>\n",
       "      <th>2</th>\n",
       "      <td>2019-09-25</td>\n",
       "      <td>35430</td>\n",
       "      <td>26220</td>\n",
       "      <td>25</td>\n",
       "      <td>Пицца</td>\n",
       "      <td>2.0</td>\n",
       "      <td>0.0</td>\n",
       "    </tr>\n",
       "    <tr>\n",
       "      <th>3</th>\n",
       "      <td>2019-09-21</td>\n",
       "      <td>56553</td>\n",
       "      <td>38601</td>\n",
       "      <td>23</td>\n",
       "      <td>Шашлыки</td>\n",
       "      <td>1.0</td>\n",
       "      <td>0.0</td>\n",
       "    </tr>\n",
       "    <tr>\n",
       "      <th>4</th>\n",
       "      <td>2019-09-21</td>\n",
       "      <td>43919</td>\n",
       "      <td>30984</td>\n",
       "      <td>25</td>\n",
       "      <td>Суши</td>\n",
       "      <td>6.0</td>\n",
       "      <td>0.0</td>\n",
       "    </tr>\n",
       "  </tbody>\n",
       "</table>\n",
       "</div>"
      ],
      "text/plain": [
       "        date  vendor_id  chain_id  city_id     spec  successful_orders   \n",
       "0 2019-07-02      40065      7501       23     Суши               54.0  \\\n",
       "1 2019-08-27      48058     33226       23   Шаурма                0.0   \n",
       "2 2019-09-25      35430     26220       25    Пицца                2.0   \n",
       "3 2019-09-21      56553     38601       23  Шашлыки                1.0   \n",
       "4 2019-09-21      43919     30984       25     Суши                6.0   \n",
       "\n",
       "   fail_orders  \n",
       "0          1.0  \n",
       "1          0.0  \n",
       "2          0.0  \n",
       "3          0.0  \n",
       "4          0.0  "
      ]
     },
     "execution_count": 7,
     "metadata": {},
     "output_type": "execute_result"
    }
   ],
   "source": [
    "df = pd.read_csv('orders.csv.gz', parse_dates=['date'], compression='gzip')\n",
    "df.head(5)"
   ]
  },
  {
   "cell_type": "markdown",
   "id": "d2ebee11-b424-4f15-a038-2433b34085cf",
   "metadata": {
    "id": "d2ebee11-b424-4f15-a038-2433b34085cf"
   },
   "source": [
    "### Задание 1 (0.5 балла)\n",
    "\n",
    "Выведите информацию о том, сколько оперативной памяти занимает загруженный датасет."
   ]
  },
  {
   "cell_type": "code",
   "execution_count": null,
   "id": "affbe5a4-2140-4a88-8d36-a23eb7e5e083",
   "metadata": {
    "id": "affbe5a4-2140-4a88-8d36-a23eb7e5e083",
    "outputId": "61d3551d-8b05-4575-80e3-1530f04e8d2c"
   },
   "outputs": [
    {
     "name": "stdout",
     "output_type": "stream",
     "text": [
      "<class 'pandas.core.frame.DataFrame'>\n",
      "RangeIndex: 96118 entries, 0 to 96117\n",
      "Data columns (total 7 columns):\n",
      " #   Column             Non-Null Count  Dtype         \n",
      "---  ------             --------------  -----         \n",
      " 0   date               96118 non-null  datetime64[ns]\n",
      " 1   vendor_id          96118 non-null  int64         \n",
      " 2   chain_id           96118 non-null  int64         \n",
      " 3   city_id            96118 non-null  int64         \n",
      " 4   spec               95733 non-null  object        \n",
      " 5   successful_orders  96118 non-null  float64       \n",
      " 6   fail_orders        96118 non-null  float64       \n",
      "dtypes: datetime64[ns](1), float64(2), int64(3), object(1)\n",
      "memory usage: 5.1+ MB\n"
     ]
    }
   ],
   "source": [
    "# место для вашего кода"
   ]
  },
  {
   "cell_type": "markdown",
   "id": "61d0d448-6163-459e-9d49-0fc8391184a1",
   "metadata": {
    "id": "61d0d448-6163-459e-9d49-0fc8391184a1"
   },
   "source": [
    "### Задание 2 (0.5 балла)\n",
    "\n",
    "Выведите описательные статистики для датасета."
   ]
  },
  {
   "cell_type": "code",
   "execution_count": 26,
   "id": "e4e08840-605c-458f-82f8-5d772924341c",
   "metadata": {
    "id": "e4e08840-605c-458f-82f8-5d772924341c",
    "outputId": "fbe7bbda-8fd9-4f76-f6a9-bc0b4323e660"
   },
   "outputs": [
    {
     "data": {
      "text/html": [
       "<div>\n",
       "<style scoped>\n",
       "    .dataframe tbody tr th:only-of-type {\n",
       "        vertical-align: middle;\n",
       "    }\n",
       "\n",
       "    .dataframe tbody tr th {\n",
       "        vertical-align: top;\n",
       "    }\n",
       "\n",
       "    .dataframe thead th {\n",
       "        text-align: right;\n",
       "    }\n",
       "</style>\n",
       "<table border=\"1\" class=\"dataframe\">\n",
       "  <thead>\n",
       "    <tr style=\"text-align: right;\">\n",
       "      <th></th>\n",
       "      <th>date</th>\n",
       "      <th>vendor_id</th>\n",
       "      <th>chain_id</th>\n",
       "      <th>city_id</th>\n",
       "      <th>spec</th>\n",
       "      <th>successful_orders</th>\n",
       "      <th>fail_orders</th>\n",
       "    </tr>\n",
       "  </thead>\n",
       "  <tbody>\n",
       "    <tr>\n",
       "      <th>count</th>\n",
       "      <td>96118</td>\n",
       "      <td>96118.000000</td>\n",
       "      <td>96118.000000</td>\n",
       "      <td>96118.000000</td>\n",
       "      <td>95733</td>\n",
       "      <td>96118.000000</td>\n",
       "      <td>96118.000000</td>\n",
       "    </tr>\n",
       "    <tr>\n",
       "      <th>unique</th>\n",
       "      <td>NaN</td>\n",
       "      <td>NaN</td>\n",
       "      <td>NaN</td>\n",
       "      <td>NaN</td>\n",
       "      <td>35</td>\n",
       "      <td>NaN</td>\n",
       "      <td>NaN</td>\n",
       "    </tr>\n",
       "    <tr>\n",
       "      <th>top</th>\n",
       "      <td>NaN</td>\n",
       "      <td>NaN</td>\n",
       "      <td>NaN</td>\n",
       "      <td>NaN</td>\n",
       "      <td>Суши</td>\n",
       "      <td>NaN</td>\n",
       "      <td>NaN</td>\n",
       "    </tr>\n",
       "    <tr>\n",
       "      <th>freq</th>\n",
       "      <td>NaN</td>\n",
       "      <td>NaN</td>\n",
       "      <td>NaN</td>\n",
       "      <td>NaN</td>\n",
       "      <td>23077</td>\n",
       "      <td>NaN</td>\n",
       "      <td>NaN</td>\n",
       "    </tr>\n",
       "    <tr>\n",
       "      <th>mean</th>\n",
       "      <td>2019-08-02 22:08:09.748017920</td>\n",
       "      <td>47425.345867</td>\n",
       "      <td>31031.897074</td>\n",
       "      <td>24.357342</td>\n",
       "      <td>NaN</td>\n",
       "      <td>8.877401</td>\n",
       "      <td>0.416842</td>\n",
       "    </tr>\n",
       "    <tr>\n",
       "      <th>min</th>\n",
       "      <td>2019-06-02 00:00:00</td>\n",
       "      <td>3756.000000</td>\n",
       "      <td>804.000000</td>\n",
       "      <td>23.000000</td>\n",
       "      <td>NaN</td>\n",
       "      <td>0.000000</td>\n",
       "      <td>0.000000</td>\n",
       "    </tr>\n",
       "    <tr>\n",
       "      <th>25%</th>\n",
       "      <td>2019-07-04 00:00:00</td>\n",
       "      <td>40265.000000</td>\n",
       "      <td>27909.000000</td>\n",
       "      <td>23.000000</td>\n",
       "      <td>NaN</td>\n",
       "      <td>1.000000</td>\n",
       "      <td>0.000000</td>\n",
       "    </tr>\n",
       "    <tr>\n",
       "      <th>50%</th>\n",
       "      <td>2019-08-03 00:00:00</td>\n",
       "      <td>49754.000000</td>\n",
       "      <td>32662.000000</td>\n",
       "      <td>24.000000</td>\n",
       "      <td>NaN</td>\n",
       "      <td>4.000000</td>\n",
       "      <td>0.000000</td>\n",
       "    </tr>\n",
       "    <tr>\n",
       "      <th>75%</th>\n",
       "      <td>2019-09-02 00:00:00</td>\n",
       "      <td>58052.000000</td>\n",
       "      <td>38376.000000</td>\n",
       "      <td>25.000000</td>\n",
       "      <td>NaN</td>\n",
       "      <td>9.000000</td>\n",
       "      <td>0.000000</td>\n",
       "    </tr>\n",
       "    <tr>\n",
       "      <th>max</th>\n",
       "      <td>2019-09-30 00:00:00</td>\n",
       "      <td>76557.000000</td>\n",
       "      <td>47907.000000</td>\n",
       "      <td>26.000000</td>\n",
       "      <td>NaN</td>\n",
       "      <td>240.000000</td>\n",
       "      <td>86.000000</td>\n",
       "    </tr>\n",
       "    <tr>\n",
       "      <th>std</th>\n",
       "      <td>NaN</td>\n",
       "      <td>15447.399597</td>\n",
       "      <td>10669.949918</td>\n",
       "      <td>1.168019</td>\n",
       "      <td>NaN</td>\n",
       "      <td>15.370105</td>\n",
       "      <td>1.424931</td>\n",
       "    </tr>\n",
       "  </tbody>\n",
       "</table>\n",
       "</div>"
      ],
      "text/plain": [
       "                                 date     vendor_id      chain_id  \\\n",
       "count                           96118  96118.000000  96118.000000   \n",
       "unique                            NaN           NaN           NaN   \n",
       "top                               NaN           NaN           NaN   \n",
       "freq                              NaN           NaN           NaN   \n",
       "mean    2019-08-02 22:08:09.748017920  47425.345867  31031.897074   \n",
       "min               2019-06-02 00:00:00   3756.000000    804.000000   \n",
       "25%               2019-07-04 00:00:00  40265.000000  27909.000000   \n",
       "50%               2019-08-03 00:00:00  49754.000000  32662.000000   \n",
       "75%               2019-09-02 00:00:00  58052.000000  38376.000000   \n",
       "max               2019-09-30 00:00:00  76557.000000  47907.000000   \n",
       "std                               NaN  15447.399597  10669.949918   \n",
       "\n",
       "             city_id   spec  successful_orders   fail_orders  \n",
       "count   96118.000000  95733       96118.000000  96118.000000  \n",
       "unique           NaN     35                NaN           NaN  \n",
       "top              NaN   Суши                NaN           NaN  \n",
       "freq             NaN  23077                NaN           NaN  \n",
       "mean       24.357342    NaN           8.877401      0.416842  \n",
       "min        23.000000    NaN           0.000000      0.000000  \n",
       "25%        23.000000    NaN           1.000000      0.000000  \n",
       "50%        24.000000    NaN           4.000000      0.000000  \n",
       "75%        25.000000    NaN           9.000000      0.000000  \n",
       "max        26.000000    NaN         240.000000     86.000000  \n",
       "std         1.168019    NaN          15.370105      1.424931  "
      ]
     },
     "execution_count": 26,
     "metadata": {},
     "output_type": "execute_result"
    }
   ],
   "source": [
    "df.describe(include='all')"
   ]
  },
  {
   "cell_type": "markdown",
   "id": "4c159baf-3d6b-458e-a2b1-2172aa20e84b",
   "metadata": {
    "id": "4c159baf-3d6b-458e-a2b1-2172aa20e84b"
   },
   "source": [
    "### Задание 3 (1 балл)\n",
    "\n",
    "Сколько уникальных специализаций присутствует в нашем датасете? Дополнительно выведите их список и частоту встречаемости."
   ]
  },
  {
   "cell_type": "code",
   "execution_count": 38,
   "id": "f3e99e3d-89ab-408e-9d61-5100ef2dea48",
   "metadata": {
    "id": "f3e99e3d-89ab-408e-9d61-5100ef2dea48",
    "outputId": "f52fb9a8-28c3-4250-f4cd-09339032c2c8"
   },
   "outputs": [
    {
     "name": "stdout",
     "output_type": "stream",
     "text": [
      "35\n"
     ]
    }
   ],
   "source": [
    "# Количество уникальных специализаций\n",
    "print(df['spec'].nunique())"
   ]
  },
  {
   "cell_type": "code",
   "execution_count": 39,
   "id": "5870141a-f701-412b-8446-c6c5c11782c5",
   "metadata": {
    "id": "5870141a-f701-412b-8446-c6c5c11782c5",
    "outputId": "d721080a-6ce9-442f-e0fa-5482495fb098"
   },
   "outputs": [
    {
     "data": {
      "text/plain": [
       "spec\n",
       "Суши                   23077\n",
       "Пицца                  13825\n",
       "Бургеры                13555\n",
       "Русская                 6260\n",
       "Шашлыки                 5658\n",
       "Шаурма                  5230\n",
       "Мясо                    3876\n",
       "Фастфуд                 3813\n",
       "Сэндвичи                3375\n",
       "Грузинская              3043\n",
       "Итальянская             2399\n",
       "Японская                1577\n",
       "Выпечка                 1205\n",
       "Рыба                    1103\n",
       "Десерты                 1071\n",
       "Китайская                841\n",
       "Узбекская                790\n",
       "Обеды                    786\n",
       "Паназиатская             528\n",
       "Пироги                   467\n",
       "Здоровая еда             456\n",
       "Кофе и чай               453\n",
       "Супы                     405\n",
       "Паста и ризотто          387\n",
       "Вьетнамская              382\n",
       "Завтраки                 346\n",
       "Корейская                202\n",
       "Индийская                194\n",
       "Хот-доги                 120\n",
       "Гирос                    108\n",
       "Мексиканская             103\n",
       "Хумус                     34\n",
       "Вегетарианское меню       28\n",
       "Халяль                    28\n",
       "Хинкали                    8\n",
       "Name: count, dtype: int64"
      ]
     },
     "execution_count": 39,
     "metadata": {},
     "output_type": "execute_result"
    }
   ],
   "source": [
    "# Список и частота\n",
    "df['spec'].value_counts()"
   ]
  },
  {
   "cell_type": "markdown",
   "id": "76d78800-d6f1-4a77-b3dd-7cf3d994a747",
   "metadata": {
    "id": "76d78800-d6f1-4a77-b3dd-7cf3d994a747"
   },
   "source": [
    "### Задание 4 (1 балл)\n",
    "\n",
    "Приведите столбец специализации к типу категории. Выведите новые типы для всех столбцов в датасете."
   ]
  },
  {
   "cell_type": "code",
   "execution_count": null,
   "id": "2509e1b3-d8ac-448f-ba7a-450df762e130",
   "metadata": {
    "id": "2509e1b3-d8ac-448f-ba7a-450df762e130",
    "outputId": "b98930f9-95c0-45f3-bb50-414ee7966897"
   },
   "outputs": [
    {
     "data": {
      "text/plain": [
       "date                 datetime64[ns]\n",
       "vendor_id                     int64\n",
       "chain_id                      int64\n",
       "city_id                       int64\n",
       "spec                       category\n",
       "successful_orders           float64\n",
       "fail_orders                 float64\n",
       "dtype: object"
      ]
     },
     "execution_count": 15,
     "metadata": {},
     "output_type": "execute_result"
    }
   ],
   "source": [
    "# место для вашего кода"
   ]
  },
  {
   "cell_type": "markdown",
   "id": "2b952805-8ac9-4502-85cc-eb3cf4aa8a7f",
   "metadata": {
    "id": "2b952805-8ac9-4502-85cc-eb3cf4aa8a7f"
   },
   "source": [
    "### Задание 5 (1 балл)\n",
    "\n",
    "Посчитайте, сколько было дней у ресторана с номером `40065`, когда количество успешных заказов было менее 20."
   ]
  },
  {
   "cell_type": "code",
   "execution_count": null,
   "id": "59ca8dac-020a-4c6c-b79c-8ae56e19d3ec",
   "metadata": {
    "id": "59ca8dac-020a-4c6c-b79c-8ae56e19d3ec",
    "outputId": "1d1b3fb3-e00a-4822-ef9a-1fcf0f1da666"
   },
   "outputs": [
    {
     "data": {
      "text/plain": [
       "45"
      ]
     },
     "execution_count": 16,
     "metadata": {},
     "output_type": "execute_result"
    }
   ],
   "source": [
    "# место для вашего кода"
   ]
  },
  {
   "cell_type": "markdown",
   "id": "82392cec-db43-4bc4-8a31-ddcd6cd86d8a",
   "metadata": {
    "id": "82392cec-db43-4bc4-8a31-ddcd6cd86d8a"
   },
   "source": [
    "### Задание 6 (1 балл)\n",
    "\n",
    "Посчитайте среднее количество успешно выполненных заказов рестораном в сутки."
   ]
  },
  {
   "cell_type": "code",
   "execution_count": null,
   "id": "35771772-0bf5-4727-86d8-1064e8be0476",
   "metadata": {
    "id": "35771772-0bf5-4727-86d8-1064e8be0476",
    "outputId": "be3b9cb2-8580-47e1-f668-1f7f045d36c6"
   },
   "outputs": [
    {
     "data": {
      "text/plain": [
       "8.878465140478667"
      ]
     },
     "execution_count": 17,
     "metadata": {},
     "output_type": "execute_result"
    }
   ],
   "source": [
    "# место для вашего кода"
   ]
  },
  {
   "cell_type": "markdown",
   "id": "b3a30b5d-0526-4609-8dc1-65ee475b184d",
   "metadata": {
    "id": "b3a30b5d-0526-4609-8dc1-65ee475b184d"
   },
   "source": [
    "### Задание 7 (1 балл)\n",
    "\n",
    "Выведите города **по убыванию** количества успешных заказов за все время."
   ]
  },
  {
   "cell_type": "code",
   "execution_count": null,
   "id": "9b781477-4b41-4762-9bf6-5721579fb32c",
   "metadata": {
    "id": "9b781477-4b41-4762-9bf6-5721579fb32c",
    "outputId": "44d4d166-6883-4444-aa1e-029c76ed312e"
   },
   "outputs": [
    {
     "data": {
      "text/plain": [
       "city_id\n",
       "23    277744.0\n",
       "26    232039.0\n",
       "25    228518.0\n",
       "24    114977.0\n",
       "Name: successful_orders, dtype: float64"
      ]
     },
     "execution_count": 19,
     "metadata": {},
     "output_type": "execute_result"
    }
   ],
   "source": [
    "# место для вашего кода"
   ]
  },
  {
   "cell_type": "markdown",
   "id": "62d42e8d-e26f-4748-b94c-10b45b6d87cd",
   "metadata": {
    "id": "62d42e8d-e26f-4748-b94c-10b45b6d87cd"
   },
   "source": [
    "### Задание 8 (2 балла)\n",
    "\n",
    "Ответьте на вопрос:\n",
    "\n",
    "> Какие специализации имеют самую высокую долю неуспешных заказов за весь период времени?\n",
    "\n",
    "Доля неуспешных заказов рассчитывается как отношение неуспешных заказов к общему числу заказов (успешные + неуспешные). Выведите топ-5 таких спеицализаций."
   ]
  },
  {
   "cell_type": "code",
   "execution_count": null,
   "id": "8c088843-7072-4c9e-a382-7b3736f757e1",
   "metadata": {
    "id": "8c088843-7072-4c9e-a382-7b3736f757e1",
    "outputId": "66f483b2-208c-4b7d-ce76-5ca41f321dd2"
   },
   "outputs": [
    {
     "data": {
      "text/html": [
       "<div>\n",
       "<style scoped>\n",
       "    .dataframe tbody tr th:only-of-type {\n",
       "        vertical-align: middle;\n",
       "    }\n",
       "\n",
       "    .dataframe tbody tr th {\n",
       "        vertical-align: top;\n",
       "    }\n",
       "\n",
       "    .dataframe thead th {\n",
       "        text-align: right;\n",
       "    }\n",
       "</style>\n",
       "<table border=\"1\" class=\"dataframe\">\n",
       "  <thead>\n",
       "    <tr style=\"text-align: right;\">\n",
       "      <th></th>\n",
       "      <th>fail_orders</th>\n",
       "      <th>total_orders</th>\n",
       "      <th>ptg_fail_orders</th>\n",
       "    </tr>\n",
       "    <tr>\n",
       "      <th>spec</th>\n",
       "      <th></th>\n",
       "      <th></th>\n",
       "      <th></th>\n",
       "    </tr>\n",
       "  </thead>\n",
       "  <tbody>\n",
       "    <tr>\n",
       "      <th>Вегетарианское меню</th>\n",
       "      <td>24.0</td>\n",
       "      <td>29.0</td>\n",
       "      <td>0.827586</td>\n",
       "    </tr>\n",
       "    <tr>\n",
       "      <th>Халяль</th>\n",
       "      <td>10.0</td>\n",
       "      <td>46.0</td>\n",
       "      <td>0.217391</td>\n",
       "    </tr>\n",
       "    <tr>\n",
       "      <th>Хинкали</th>\n",
       "      <td>2.0</td>\n",
       "      <td>12.0</td>\n",
       "      <td>0.166667</td>\n",
       "    </tr>\n",
       "    <tr>\n",
       "      <th>Завтраки</th>\n",
       "      <td>88.0</td>\n",
       "      <td>566.0</td>\n",
       "      <td>0.155477</td>\n",
       "    </tr>\n",
       "    <tr>\n",
       "      <th>Хот-доги</th>\n",
       "      <td>57.0</td>\n",
       "      <td>405.0</td>\n",
       "      <td>0.140741</td>\n",
       "    </tr>\n",
       "  </tbody>\n",
       "</table>\n",
       "</div>"
      ],
      "text/plain": [
       "                     fail_orders  total_orders  ptg_fail_orders\n",
       "spec                                                           \n",
       "Вегетарианское меню         24.0          29.0         0.827586\n",
       "Халяль                      10.0          46.0         0.217391\n",
       "Хинкали                      2.0          12.0         0.166667\n",
       "Завтраки                    88.0         566.0         0.155477\n",
       "Хот-доги                    57.0         405.0         0.140741"
      ]
     },
     "execution_count": 24,
     "metadata": {},
     "output_type": "execute_result"
    }
   ],
   "source": [
    "# место для вашего кода"
   ]
  },
  {
   "cell_type": "markdown",
   "id": "51b5183e-8f7f-4fc7-9678-87bee2ae40e4",
   "metadata": {
    "id": "51b5183e-8f7f-4fc7-9678-87bee2ae40e4"
   },
   "source": [
    "### Задание 9 (2 балла)\n",
    "\n",
    "Ответьте на вопрос:\n",
    "\n",
    "> Какая из сетей ресторанов (`chain_id`) показала максимальный абсолютный рост за август 2019 года по сравнению с июлем 2019 года?\n",
    "\n",
    "При ответе на вопрос стоит учитывать только сети, у которых заказы были в августе (заказов в июле могло не быть). Для решения этой задачи используйте join-ы."
   ]
  },
  {
   "cell_type": "code",
   "execution_count": null,
   "id": "b448ddd6-2930-4d21-88b6-4130a016eeea",
   "metadata": {
    "id": "b448ddd6-2930-4d21-88b6-4130a016eeea",
    "outputId": "78d43def-fd87-43c1-d77d-7cdbd2d5e346"
   },
   "outputs": [
    {
     "data": {
      "text/html": [
       "<div>\n",
       "<style scoped>\n",
       "    .dataframe tbody tr th:only-of-type {\n",
       "        vertical-align: middle;\n",
       "    }\n",
       "\n",
       "    .dataframe tbody tr th {\n",
       "        vertical-align: top;\n",
       "    }\n",
       "\n",
       "    .dataframe thead th {\n",
       "        text-align: right;\n",
       "    }\n",
       "</style>\n",
       "<table border=\"1\" class=\"dataframe\">\n",
       "  <thead>\n",
       "    <tr style=\"text-align: right;\">\n",
       "      <th></th>\n",
       "      <th>chain_id</th>\n",
       "      <th>successful_orders_aug</th>\n",
       "      <th>successful_orders_jul</th>\n",
       "      <th>increase</th>\n",
       "    </tr>\n",
       "  </thead>\n",
       "  <tbody>\n",
       "    <tr>\n",
       "      <th>207</th>\n",
       "      <td>29925</td>\n",
       "      <td>12561.0</td>\n",
       "      <td>11167.0</td>\n",
       "      <td>1394.0</td>\n",
       "    </tr>\n",
       "  </tbody>\n",
       "</table>\n",
       "</div>"
      ],
      "text/plain": [
       "     chain_id  successful_orders_aug  successful_orders_jul  increase\n",
       "207     29925                12561.0                11167.0    1394.0"
      ]
     },
     "execution_count": 40,
     "metadata": {},
     "output_type": "execute_result"
    }
   ],
   "source": [
    "# место для вашего кода"
   ]
  },
  {
   "cell_type": "code",
   "execution_count": null,
   "id": "b2f3f719-6902-4b37-aa94-e7cef18c44df",
   "metadata": {
    "id": "b2f3f719-6902-4b37-aa94-e7cef18c44df"
   },
   "outputs": [],
   "source": []
  }
 ],
 "metadata": {
  "colab": {
   "provenance": []
  },
  "kernelspec": {
   "display_name": "Python 3.11.4 64-bit",
   "language": "python",
   "name": "python3"
  },
  "language_info": {
   "codemirror_mode": {
    "name": "ipython",
    "version": 3
   },
   "file_extension": ".py",
   "mimetype": "text/x-python",
   "name": "python",
   "nbconvert_exporter": "python",
   "pygments_lexer": "ipython3",
   "version": "3.11.4"
  },
  "vscode": {
   "interpreter": {
    "hash": "949777d72b0d2535278d3dc13498b2535136f6dfe0678499012e853ee9abcab1"
   }
  }
 },
 "nbformat": 4,
 "nbformat_minor": 5
}
