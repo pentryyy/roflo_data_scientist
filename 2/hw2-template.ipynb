{
 "cells": [
  {
   "cell_type": "markdown",
   "metadata": {},
   "source": [
    "# Основные Импорты"
   ]
  },
  {
   "cell_type": "code",
   "execution_count": 4,
   "metadata": {},
   "outputs": [],
   "source": [
    "import pandas as pd\n",
    "import numpy as np\n",
    "import matplotlib.pyplot as plt\n",
    "import seaborn as sns\n",
    "\n",
    "# Загрузка данных\n",
    "df = pd.read_csv('resources/Billionaires Statistics Dataset.csv')"
   ]
  },
  {
   "cell_type": "markdown",
   "metadata": {
    "id": "WrS1vxdZqQYf"
   },
   "source": [
    "# Пункт - 1. Типы и роли данных (1 балл)"
   ]
  },
  {
   "cell_type": "markdown",
   "metadata": {
    "id": "6eWLdQtLqi5J"
   },
   "source": [
    "## Решение\n",
    "В этом блоке необходимо написать код, построить нужные визуализации и рассчитать нужные статистики для решения этой части задания. Можно создать столько ячеек с кодом, сколько нужно для выполнения задания"
   ]
  },
  {
   "cell_type": "code",
   "execution_count": 5,
   "metadata": {
    "id": "KGSSVWtYqv7w"
   },
   "outputs": [
    {
     "name": "stdout",
     "output_type": "stream",
     "text": [
      "Размерность данных: (2640, 35)\n",
      "\n",
      "Первые 5 строк:\n",
      "   rank  finalWorth               category                personName   age  \\\n",
      "0     1      211000       Fashion & Retail  Bernard Arnault & family  74.0   \n",
      "1     2      180000             Automotive                 Elon Musk  51.0   \n",
      "2     3      114000             Technology                Jeff Bezos  59.0   \n",
      "3     4      107000             Technology             Larry Ellison  78.0   \n",
      "4     5      106000  Finance & Investments            Warren Buffett  92.0   \n",
      "\n",
      "         country    city              source             industries  \\\n",
      "0         France   Paris                LVMH       Fashion & Retail   \n",
      "1  United States  Austin       Tesla, SpaceX             Automotive   \n",
      "2  United States  Medina              Amazon             Technology   \n",
      "3  United States   Lanai              Oracle             Technology   \n",
      "4  United States   Omaha  Berkshire Hathaway  Finance & Investments   \n",
      "\n",
      "  countryOfCitizenship  ... cpi_change_country           gdp_country  \\\n",
      "0               France  ...                1.1   $2,715,518,274,227    \n",
      "1        United States  ...                7.5  $21,427,700,000,000    \n",
      "2        United States  ...                7.5  $21,427,700,000,000    \n",
      "3        United States  ...                7.5  $21,427,700,000,000    \n",
      "4        United States  ...                7.5  $21,427,700,000,000    \n",
      "\n",
      "  gross_tertiary_education_enrollment  \\\n",
      "0                                65.6   \n",
      "1                                88.2   \n",
      "2                                88.2   \n",
      "3                                88.2   \n",
      "4                                88.2   \n",
      "\n",
      "  gross_primary_education_enrollment_country life_expectancy_country  \\\n",
      "0                                      102.5                    82.5   \n",
      "1                                      101.8                    78.5   \n",
      "2                                      101.8                    78.5   \n",
      "3                                      101.8                    78.5   \n",
      "4                                      101.8                    78.5   \n",
      "\n",
      "  tax_revenue_country_country total_tax_rate_country population_country  \\\n",
      "0                        24.2                   60.7         67059887.0   \n",
      "1                         9.6                   36.6        328239523.0   \n",
      "2                         9.6                   36.6        328239523.0   \n",
      "3                         9.6                   36.6        328239523.0   \n",
      "4                         9.6                   36.6        328239523.0   \n",
      "\n",
      "  latitude_country longitude_country  \n",
      "0        46.227638          2.213749  \n",
      "1        37.090240        -95.712891  \n",
      "2        37.090240        -95.712891  \n",
      "3        37.090240        -95.712891  \n",
      "4        37.090240        -95.712891  \n",
      "\n",
      "[5 rows x 35 columns]\n",
      "\n",
      "Информация о типах данных:\n",
      "<class 'pandas.core.frame.DataFrame'>\n",
      "RangeIndex: 2640 entries, 0 to 2639\n",
      "Data columns (total 35 columns):\n",
      " #   Column                                      Non-Null Count  Dtype  \n",
      "---  ------                                      --------------  -----  \n",
      " 0   rank                                        2640 non-null   int64  \n",
      " 1   finalWorth                                  2640 non-null   int64  \n",
      " 2   category                                    2640 non-null   object \n",
      " 3   personName                                  2640 non-null   object \n",
      " 4   age                                         2575 non-null   float64\n",
      " 5   country                                     2602 non-null   object \n",
      " 6   city                                        2568 non-null   object \n",
      " 7   source                                      2640 non-null   object \n",
      " 8   industries                                  2640 non-null   object \n",
      " 9   countryOfCitizenship                        2640 non-null   object \n",
      " 10  organization                                325 non-null    object \n",
      " 11  selfMade                                    2640 non-null   bool   \n",
      " 12  status                                      2640 non-null   object \n",
      " 13  gender                                      2640 non-null   object \n",
      " 14  birthDate                                   2564 non-null   object \n",
      " 15  lastName                                    2640 non-null   object \n",
      " 16  firstName                                   2637 non-null   object \n",
      " 17  title                                       339 non-null    object \n",
      " 18  date                                        2640 non-null   object \n",
      " 19  state                                       753 non-null    object \n",
      " 20  residenceStateRegion                        747 non-null    object \n",
      " 21  birthYear                                   2564 non-null   float64\n",
      " 22  birthMonth                                  2564 non-null   float64\n",
      " 23  birthDay                                    2564 non-null   float64\n",
      " 24  cpi_country                                 2456 non-null   float64\n",
      " 25  cpi_change_country                          2456 non-null   float64\n",
      " 26  gdp_country                                 2476 non-null   object \n",
      " 27  gross_tertiary_education_enrollment         2458 non-null   float64\n",
      " 28  gross_primary_education_enrollment_country  2459 non-null   float64\n",
      " 29  life_expectancy_country                     2458 non-null   float64\n",
      " 30  tax_revenue_country_country                 2457 non-null   float64\n",
      " 31  total_tax_rate_country                      2458 non-null   float64\n",
      " 32  population_country                          2476 non-null   float64\n",
      " 33  latitude_country                            2476 non-null   float64\n",
      " 34  longitude_country                           2476 non-null   float64\n",
      "dtypes: bool(1), float64(14), int64(2), object(18)\n",
      "memory usage: 704.0+ KB\n",
      "None\n",
      "\n",
      "Статистическое описание числовых переменных:\n",
      "              rank     finalWorth          age    birthYear   birthMonth  \\\n",
      "count  2640.000000    2640.000000  2575.000000  2564.000000  2564.000000   \n",
      "mean   1289.159091    4623.787879    65.140194  1957.183307     5.740250   \n",
      "std     739.693726    9834.240939    13.258098    13.282516     3.710085   \n",
      "min       1.000000    1000.000000    18.000000  1921.000000     1.000000   \n",
      "25%     659.000000    1500.000000    56.000000  1948.000000     2.000000   \n",
      "50%    1312.000000    2300.000000    65.000000  1957.000000     6.000000   \n",
      "75%    1905.000000    4200.000000    75.000000  1966.000000     9.000000   \n",
      "max    2540.000000  211000.000000   101.000000  2004.000000    12.000000   \n",
      "\n",
      "          birthDay  cpi_country  cpi_change_country  \\\n",
      "count  2564.000000  2456.000000         2456.000000   \n",
      "mean     12.099844   127.755204            4.364169   \n",
      "std       9.918876    26.452951            3.623763   \n",
      "min       1.000000    99.550000           -1.900000   \n",
      "25%       1.000000   117.240000            1.700000   \n",
      "50%      11.000000   117.240000            2.900000   \n",
      "75%      21.000000   125.080000            7.500000   \n",
      "max      31.000000   288.570000           53.500000   \n",
      "\n",
      "       gross_tertiary_education_enrollment  \\\n",
      "count                          2458.000000   \n",
      "mean                             67.225671   \n",
      "std                              21.343426   \n",
      "min                               4.000000   \n",
      "25%                              50.600000   \n",
      "50%                              65.600000   \n",
      "75%                              88.200000   \n",
      "max                             136.600000   \n",
      "\n",
      "       gross_primary_education_enrollment_country  life_expectancy_country  \\\n",
      "count                                 2459.000000              2458.000000   \n",
      "mean                                   102.858520                78.122823   \n",
      "std                                      4.710977                 3.730099   \n",
      "min                                     84.700000                54.300000   \n",
      "25%                                    100.200000                77.000000   \n",
      "50%                                    101.800000                78.500000   \n",
      "75%                                    102.600000                80.900000   \n",
      "max                                    142.100000                84.200000   \n",
      "\n",
      "       tax_revenue_country_country  total_tax_rate_country  \\\n",
      "count                  2457.000000             2458.000000   \n",
      "mean                     12.546235               43.963344   \n",
      "std                       5.368625               12.145296   \n",
      "min                       0.100000                9.900000   \n",
      "25%                       9.600000               36.600000   \n",
      "50%                       9.600000               41.200000   \n",
      "75%                      12.800000               59.100000   \n",
      "max                      37.200000              106.300000   \n",
      "\n",
      "       population_country  latitude_country  longitude_country  \n",
      "count        2.476000e+03       2476.000000        2476.000000  \n",
      "mean         5.102053e+08         34.903592          12.583156  \n",
      "std          5.542447e+08         17.003497          86.762989  \n",
      "min          3.801900e+04        -40.900557        -106.346771  \n",
      "25%          6.683440e+07         35.861660         -95.712891  \n",
      "50%          3.282395e+08         37.090240          10.451526  \n",
      "75%          1.366418e+09         40.463667         104.195397  \n",
      "max          1.397715e+09         61.924110         174.885971  \n",
      "\n",
      "Статистическое описание категориальных переменных:\n",
      "                     category personName        country      city  \\\n",
      "count                    2640       2640           2602      2568   \n",
      "unique                     18       2638             78       741   \n",
      "top     Finance & Investments      Li Li  United States  New York   \n",
      "freq                      372          2            754        99   \n",
      "\n",
      "             source             industries countryOfCitizenship  \\\n",
      "count          2640                   2640                 2640   \n",
      "unique          906                     18                   77   \n",
      "top     Real estate  Finance & Investments        United States   \n",
      "freq            151                    372                  735   \n",
      "\n",
      "          organization status gender      birthDate lastName firstName  \\\n",
      "count              325   2640   2640           2564     2640      2637   \n",
      "unique             294      6      2           2060     1736      1770   \n",
      "top     Meta Platforms      D      M  1/1/1965 0:00       Li      John   \n",
      "freq                 4   1223   2303             19       44        40   \n",
      "\n",
      "           title           date       state residenceStateRegion  \\\n",
      "count        339           2640         753                  747   \n",
      "unique        97              2          45                    5   \n",
      "top     Investor  4/4/2023 5:01  California                 West   \n",
      "freq          44           2638         178                  248   \n",
      "\n",
      "                 gdp_country  \n",
      "count                   2476  \n",
      "unique                    68  \n",
      "top     $21,427,700,000,000   \n",
      "freq                     754  \n",
      "\n",
      "Пропущенные значения:\n",
      "age                                             65\n",
      "country                                         38\n",
      "city                                            72\n",
      "organization                                  2315\n",
      "birthDate                                       76\n",
      "firstName                                        3\n",
      "title                                         2301\n",
      "state                                         1887\n",
      "residenceStateRegion                          1893\n",
      "birthYear                                       76\n",
      "birthMonth                                      76\n",
      "birthDay                                        76\n",
      "cpi_country                                    184\n",
      "cpi_change_country                             184\n",
      "gdp_country                                    164\n",
      "gross_tertiary_education_enrollment            182\n",
      "gross_primary_education_enrollment_country     181\n",
      "life_expectancy_country                        182\n",
      "tax_revenue_country_country                    183\n",
      "total_tax_rate_country                         182\n",
      "population_country                             164\n",
      "latitude_country                               164\n",
      "longitude_country                              164\n",
      "dtype: int64\n"
     ]
    }
   ],
   "source": [
    "# Исследование структуры данных\n",
    "print(\"Размерность данных:\", df.shape)\n",
    "print(\"\\nПервые 5 строк:\")\n",
    "print(df.head())\n",
    "\n",
    "print(\"\\nИнформация о типах данных:\")\n",
    "print(df.info())\n",
    "\n",
    "print(\"\\nСтатистическое описание числовых переменных:\")\n",
    "print(df.describe())\n",
    "\n",
    "print(\"\\nСтатистическое описание категориальных переменных:\")\n",
    "print(df.describe(include=['object']))\n",
    "\n",
    "# Анализ пропущенных значений\n",
    "print(\"\\nПропущенные значения:\")\n",
    "missing_data = df.isnull().sum()\n",
    "print(missing_data[missing_data > 0])"
   ]
  },
  {
   "cell_type": "markdown",
   "metadata": {
    "id": "27gLmKiwqkXE"
   },
   "source": [
    "## Ответ\n",
    "В этом блоке необходимо вывести ответ для этой части задания. Ответ должен описаться на написанный код, построенные визуализации и проведенные расчеты. Если необходимо, то можно записать ответ в нескольких ячейках."
   ]
  },
  {
   "cell_type": "code",
   "execution_count": 6,
   "metadata": {
    "id": "vrJqfKxcqvoZ"
   },
   "outputs": [
    {
     "data": {
      "image/png": "[encoded data removed]",
      "text/plain": [
       "<Figure size 1200x600 with 2 Axes>"
      ]
     },
     "metadata": {},
     "output_type": "display_data"
    }
   ],
   "source": [
    "# Визуализация распределения типов данных\n",
    "plt.figure(figsize=(12, 6))\n",
    "\n",
    "# Количество переменных по типам\n",
    "dtype_counts = df.dtypes.value_counts()\n",
    "plt.subplot(1, 2, 1)\n",
    "dtype_counts.plot(kind='bar', color='skyblue')\n",
    "plt.title('Распределение типов данных')\n",
    "plt.xlabel('Тип данных')\n",
    "plt.ylabel('Количество переменных')\n",
    "\n",
    "# Процент пропущенных значений\n",
    "plt.subplot(1, 2, 2)\n",
    "missing_percent = (df.isnull().sum() / len(df) * 100)\n",
    "missing_percent = missing_percent[missing_percent > 0]\n",
    "missing_percent.sort_values(ascending=True).plot(kind='barh', color='lightcoral')\n",
    "plt.title('Процент пропущенных значений по переменным')\n",
    "plt.xlabel('Процент пропущенных значений')\n",
    "\n",
    "plt.tight_layout()\n",
    "plt.show()"
   ]
  },
  {
   "cell_type": "markdown",
   "metadata": {
    "id": "d33bVqnsq4wD"
   },
   "source": [
    "# Пункт - 2. Пропущенные значения (1 балл)"
   ]
  },
  {
   "cell_type": "markdown",
   "metadata": {
    "id": "rc03imIkq4wG"
   },
   "source": [
    "## Решение\n",
    "В этом блоке необходимо написать код, построить нужные визуализации и рассчитать нужные статистики для решения этой части задания. Можно создать столько ячеек с кодом, сколько нужно для выполнения задания"
   ]
  },
  {
   "cell_type": "code",
   "execution_count": 7,
   "metadata": {
    "id": "lfmkgQ0cq4wG"
   },
   "outputs": [
    {
     "name": "stdout",
     "output_type": "stream",
     "text": [
      "=== ОБЩИЙ АНАЛИЗ ПРОПУЩЕННЫХ ЗНАЧЕНИЙ ===\n",
      "Общее количество строк: 2640\n",
      "Общее количество пропущенных значений: 10812\n",
      "Процент пропущенных значений в наборе данных: 11.70%\n",
      "\n",
      "=== ПРОПУЩЕННЫЕ ЗНАЧЕНИЯ ПО КОЛОНКАМ ===\n",
      "                                       Колонка  Пропущено    Процент\n",
      "10                                organization       2315  87.689394\n",
      "17                                       title       2301  87.159091\n",
      "20                        residenceStateRegion       1893  71.704545\n",
      "19                                       state       1887  71.477273\n",
      "25                          cpi_change_country        184   6.969697\n",
      "24                                 cpi_country        184   6.969697\n",
      "30                 tax_revenue_country_country        183   6.931818\n",
      "27         gross_tertiary_education_enrollment        182   6.893939\n",
      "31                      total_tax_rate_country        182   6.893939\n",
      "29                     life_expectancy_country        182   6.893939\n",
      "28  gross_primary_education_enrollment_country        181   6.856061\n",
      "34                           longitude_country        164   6.212121\n",
      "32                          population_country        164   6.212121\n",
      "33                            latitude_country        164   6.212121\n",
      "26                                 gdp_country        164   6.212121\n",
      "14                                   birthDate         76   2.878788\n",
      "23                                    birthDay         76   2.878788\n",
      "21                                   birthYear         76   2.878788\n",
      "22                                  birthMonth         76   2.878788\n",
      "6                                         city         72   2.727273\n",
      "4                                          age         65   2.462121\n",
      "5                                      country         38   1.439394\n",
      "16                                   firstName          3   0.113636\n"
     ]
    }
   ],
   "source": [
    "# Анализ пропущенных значений\n",
    "print(\"=== ОБЩИЙ АНАЛИЗ ПРОПУЩЕННЫХ ЗНАЧЕНИЙ ===\")\n",
    "print(f\"Общее количество строк: {len(df)}\")\n",
    "print(f\"Общее количество пропущенных значений: {df.isnull().sum().sum()}\")\n",
    "print(f\"Процент пропущенных значений в наборе данных: {(df.isnull().sum().sum() / (len(df) * len(df.columns)) * 100):.2f}%\")\n",
    "\n",
    "# Детальный анализ по колонкам\n",
    "missing_data = df.isnull().sum()\n",
    "missing_percent = (missing_data / len(df)) * 100\n",
    "\n",
    "print(\"\\n=== ПРОПУЩЕННЫЕ ЗНАЧЕНИЯ ПО КОЛОНКАМ ===\")\n",
    "missing_info = pd.DataFrame({\n",
    "    'Колонка': missing_data.index,\n",
    "    'Пропущено': missing_data.values,\n",
    "    'Процент': missing_percent.values\n",
    "})\n",
    "missing_info = missing_info[missing_info['Пропущено'] > 0].sort_values('Процент', ascending=False)\n",
    "print(missing_info)"
   ]
  },
  {
   "cell_type": "markdown",
   "metadata": {
    "id": "KsL84PEAq4wH"
   },
   "source": [
    "## Ответ\n",
    "В этом блоке необходимо вывести ответ для этой части задания. Ответ должен описаться на написанный код, построенные визуализации и проведенные расчеты. Если необходимо, то можно записать ответ в нескольких ячейках."
   ]
  },
  {
   "cell_type": "code",
   "execution_count": null,
   "metadata": {
    "id": "XIn3jAzFq4wH"
   },
   "outputs": [],
   "source": [
    "# Визуализация пропущенных значений\n",
    "plt.figure(figsize=(15, 10))\n",
    "\n",
    "# Heatmap пропущенных значений\n",
    "plt.subplot(2, 2, 1)\n",
    "missing_matrix = df.isnull()\n",
    "sns.heatmap(missing_matrix, cbar=True, yticklabels=False, cmap='viridis')\n",
    "plt.title('Матрица пропущенных значений (Heatmap)')\n",
    "plt.xlabel('Колонки')\n",
    "plt.ylabel('Строки')\n",
    "\n",
    "# Процент пропущенных значений по колонкам\n",
    "plt.subplot(2, 2, 2)\n",
    "top_missing = missing_info.head(15)\n",
    "plt.barh(top_missing['Колонка'], top_missing['Процент'], color='coral')\n",
    "plt.title('Топ-15 колонок с наибольшим % пропусков')\n",
    "plt.xlabel('Процент пропусков (%)')\n",
    "plt.gca().invert_yaxis()\n",
    "\n",
    "# Распределение количества пропусков по строкам\n",
    "plt.subplot(2, 2, 3)\n",
    "missing_per_row = df.isnull().sum(axis=1)\n",
    "plt.hist(missing_per_row, bins=30, alpha=0.7, color='skyblue', edgecolor='black')\n",
    "plt.title('Распределение пропусков по строкам')\n",
    "plt.xlabel('Количество пропусков в строке')\n",
    "plt.ylabel('Количество строк')\n",
    "\n",
    "# Распределение количества пропусков по колонкам\n",
    "plt.subplot(2, 2, 4)\n",
    "missing_per_col = df.isnull().sum()\n",
    "plt.hist(missing_per_col, bins=30, alpha=0.7, color='lightgreen', edgecolor='black')\n",
    "plt.title('Распределение пропусков по колонкам')\n",
    "plt.xlabel('Количество пропусков в колонке')\n",
    "plt.ylabel('Количество колонок')\n",
    "\n",
    "plt.tight_layout()\n",
    "plt.show()"
   ]
  },
  {
   "cell_type": "markdown",
   "metadata": {
    "id": "LvgfWO-Rq-j2"
   },
   "source": [
    "# Пункт - 3 - Сводные показатели (2 балла)\n",
    "\n"
   ]
  },
  {
   "cell_type": "markdown",
   "metadata": {
    "id": "Y3R2Ibqaq-j3"
   },
   "source": [
    "## Решение\n",
    "В этом блоке необходимо написать код, построить нужные визуализации и рассчитать нужные статистики для решения этой части задания. Можно создать столько ячеек с кодом, сколько нужно для выполнения задания"
   ]
  },
  {
   "cell_type": "code",
   "execution_count": null,
   "metadata": {
    "id": "482yNHZ3q-j3"
   },
   "outputs": [],
   "source": [
    "# Здесь код решения"
   ]
  },
  {
   "cell_type": "markdown",
   "metadata": {
    "id": "j8lVdP-4q-j3"
   },
   "source": [
    "## Ответ\n",
    "В этом блоке необходимо вывести ответ для этой части задания. Ответ должен описаться на написанный код, построенные визуализации и проведенные расчеты. Если необходимо, то можно записать ответ в нескольких ячейках."
   ]
  },
  {
   "cell_type": "code",
   "execution_count": null,
   "metadata": {
    "id": "RQ4GR_ZFq-j4"
   },
   "outputs": [],
   "source": [
    "# Здесь код подготовки ответа и сам ответ"
   ]
  },
  {
   "cell_type": "markdown",
   "metadata": {
    "id": "ULEEP30erBbq"
   },
   "source": [
    "# Пункт - 4. Анализ связей показателей (2 балла)"
   ]
  },
  {
   "cell_type": "markdown",
   "metadata": {
    "id": "jF5tZx6ErBbq"
   },
   "source": [
    "## Решение\n",
    "В этом блоке необходимо написать код, построить нужные визуализации и рассчитать нужные статистики для решения этой части задания. Можно создать столько ячеек с кодом, сколько нужно для выполнения задания"
   ]
  },
  {
   "cell_type": "code",
   "execution_count": null,
   "metadata": {
    "id": "92JnT54prBbr"
   },
   "outputs": [],
   "source": [
    "# Здесь код решения"
   ]
  },
  {
   "cell_type": "markdown",
   "metadata": {
    "id": "gP6wfse0rBbr"
   },
   "source": [
    "## Ответ\n",
    "В этом блоке необходимо вывести ответ для этой части задания. Ответ должен описаться на написанный код, построенные визуализации и проведенные расчеты. Если необходимо, то можно записать ответ в нескольких ячейках."
   ]
  },
  {
   "cell_type": "code",
   "execution_count": null,
   "metadata": {
    "id": "FCh8Om8vrBbr"
   },
   "outputs": [],
   "source": [
    "# Здесь код подготовки ответа и сам ответ"
   ]
  },
  {
   "cell_type": "markdown",
   "metadata": {
    "id": "OaYHyf00rUUq"
   },
   "source": [
    "# Пункт - 5.  Многомерный анализ (2 балла)"
   ]
  },
  {
   "cell_type": "markdown",
   "metadata": {
    "id": "FnIC6S0UrUUq"
   },
   "source": [
    "## Решение\n",
    "В этом блоке необходимо написать код, построить нужные визуализации и рассчитать нужные статистики для решения этой части задания. Можно создать столько ячеек с кодом, сколько нужно для выполнения задания"
   ]
  },
  {
   "cell_type": "code",
   "execution_count": null,
   "metadata": {
    "id": "_Fvxwml4rUUq"
   },
   "outputs": [],
   "source": [
    "# Здесь код решения"
   ]
  },
  {
   "cell_type": "markdown",
   "metadata": {
    "id": "ZiSw8jjfrUUr"
   },
   "source": [
    "## Ответ\n",
    "В этом блоке необходимо вывести ответ для этой части задания. Ответ должен описаться на написанный код, построенные визуализации и проведенные расчеты. Если необходимо, то можно записать ответ в нескольких ячейках."
   ]
  },
  {
   "cell_type": "code",
   "execution_count": null,
   "metadata": {
    "id": "lvdfruh-tfAA"
   },
   "outputs": [],
   "source": [
    "# Здесь код подготовки ответа и сам ответ"
   ]
  }
 ],
 "metadata": {
  "colab": {
   "authorship_tag": "ABX9TyORESd6f/sfrB3D6K3+Gv5X",
   "provenance": []
  },
  "kernelspec": {
   "display_name": "Python 3",
   "name": "python3"
  },
  "language_info": {
   "codemirror_mode": {
    "name": "ipython",
    "version": 3
   },
   "file_extension": ".py",
   "mimetype": "text/x-python",
   "name": "python",
   "nbconvert_exporter": "python",
   "pygments_lexer": "ipython3",
   "version": "3.11.5"
  }
 },
 "nbformat": 4,
 "nbformat_minor": 0
}
